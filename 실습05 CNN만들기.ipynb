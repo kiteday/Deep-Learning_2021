{
 "cells": [
  {
   "cell_type": "code",
   "execution_count": null,
   "id": "49d6e9af",
   "metadata": {},
   "outputs": [],
   "source": [
    "##GitHub code : "
   ]
  },
  {
   "cell_type": "markdown",
   "id": "07898dad",
   "metadata": {},
   "source": [
    "Load Package"
   ]
  },
  {
   "cell_type": "code",
   "execution_count": 33,
   "id": "7fa6193f",
   "metadata": {},
   "outputs": [],
   "source": [
    "import torch\n",
    "import torch.nn as nn\n",
    "import torchvision.datasets as dset\n",
    "import torchvision.transforms as transforms\n",
    "from torch.utils.data import DataLoader\n",
    "from torch.autograd import Variable\n",
    "import matplotlib.pyplot as plt \n",
    "%matplotlib inline"
   ]
  },
  {
   "cell_type": "markdown",
   "id": "cdc1d75f",
   "metadata": {},
   "source": [
    "MNIST train, test dataset 가져오기"
   ]
  },
  {
   "cell_type": "code",
   "execution_count": 34,
   "id": "ed61bf19",
   "metadata": {},
   "outputs": [],
   "source": [
    "mnist_train= dset.MNIST(\"\",train =True, transform= transforms.ToTensor(), target_transform=None, download=True)\n",
    "mnist_test = dset.MNIST(\"\",train =False, transform= transforms.ToTensor(), target_transform=None, download=True)"
   ]
  },
  {
   "cell_type": "markdown",
   "id": "db38fa38",
   "metadata": {},
   "source": [
    "대략적인 데이터 형태"
   ]
  },
  {
   "cell_type": "code",
   "execution_count": 35,
   "id": "c28009da",
   "metadata": {},
   "outputs": [
    {
     "name": "stdout",
     "output_type": "stream",
     "text": [
      "mnist_train의 길이 :  60000\n",
      "mnist_test의 길이 :  10000\n",
      "image data 형태 : torch.Size([1, 28, 28])\n",
      "label :  5\n"
     ]
    },
    {
     "data": {
      "image/png": "[encoded data removed]",
      "text/plain": [
       "<Figure size 432x288 with 1 Axes>"
      ]
     },
     "metadata": {
      "needs_background": "light"
     },
     "output_type": "display_data"
    }
   ],
   "source": [
    "print \"mnist_train의 길이 : \", len(mnist_train)\n",
    "print \"mnist_test의 길이 : \", len(mnist_test)\n",
    "\n",
    "image, label = mnist_train.__getitem__(0)\n",
    "print \"image data 형태 :\", image.size()\n",
    "print \"label : \", label\n",
    "\n",
    "img = image.numpy()\n",
    "plt.title(\"label: %d\" %label)\n",
    "plt.imshow(img[0], cmap ='gray')\n",
    "plt.show()"
   ]
  },
  {
   "cell_type": "code",
   "execution_count": 36,
   "id": "969a217f",
   "metadata": {},
   "outputs": [
    {
     "name": "stdout",
     "output_type": "stream",
     "text": [
      "5\n",
      "torch.Size([1, 28, 28])\n",
      "5\n"
     ]
    },
    {
     "data": {
      "image/png": "[encoded data removed]",
      "text/plain": [
       "<Figure size 432x288 with 1 Axes>"
      ]
     },
     "metadata": {
      "needs_background": "light"
     },
     "output_type": "display_data"
    },
    {
     "name": "stdout",
     "output_type": "stream",
     "text": [
      "0\n"
     ]
    },
    {
     "data": {
      "image/png": "[encoded data removed]",
      "text/plain": [
       "<Figure size 432x288 with 1 Axes>"
      ]
     },
     "metadata": {
      "needs_background": "light"
     },
     "output_type": "display_data"
    },
    {
     "name": "stdout",
     "output_type": "stream",
     "text": [
      "4\n"
     ]
    },
    {
     "data": {
      "image/png": "[encoded data removed]",
      "text/plain": [
       "<Figure size 432x288 with 1 Axes>"
      ]
     },
     "metadata": {
      "needs_background": "light"
     },
     "output_type": "display_data"
    }
   ],
   "source": [
    "print(mnist_train[0][1])\n",
    "print(mnist_train[0][0].size())\n",
    "\n",
    "for i in range(3):\n",
    "    img=mnist_train[i][0].numpy()\n",
    "    print(mnist_train[i][1])\n",
    "    plt.imshow(img[0],cmap='gray')\n",
    "    plt.show()"
   ]
  },
  {
   "cell_type": "markdown",
   "id": "e393dd51",
   "metadata": {},
   "source": [
    "# convolution 하나 씌워보기"
   ]
  },
  {
   "cell_type": "code",
   "execution_count": 37,
   "id": "01a98f07",
   "metadata": {},
   "outputs": [
    {
     "name": "stdout",
     "output_type": "stream",
     "text": [
      "torch.Size([1, 1, 28, 28])\n",
      "5\n",
      "torch.Size([1, 3, 28, 28])\n"
     ]
    },
    {
     "data": {
      "image/png": "[encoded data removed]",
      "text/plain": [
       "<Figure size 432x288 with 1 Axes>"
      ]
     },
     "metadata": {
      "needs_background": "light"
     },
     "output_type": "display_data"
    },
    {
     "data": {
      "image/png": "[encoded data removed]",
      "text/plain": [
       "<Figure size 432x288 with 1 Axes>"
      ]
     },
     "metadata": {
      "needs_background": "light"
     },
     "output_type": "display_data"
    },
    {
     "data": {
      "image/png": "[encoded data removed]",
      "text/plain": [
       "<Figure size 432x288 with 1 Axes>"
      ]
     },
     "metadata": {
      "needs_background": "light"
     },
     "output_type": "display_data"
    }
   ],
   "source": [
    "#mniat의 첫 번째 이미지, 라벨 가져오기\n",
    "image, label =mnist_train[0]\n",
    "#view: tensor의 사이즈 조절 -1: 해당 차원을 확장시키라는 의미\n",
    "#[1,28,28] ->[1,1,28,28] reshape\n",
    "image = image.view(-1, image.size()[0], image.size()[1], image.size()[2])\n",
    "print(image.size())\n",
    "\n",
    "print label\n",
    "\n",
    "#convolution filter\n",
    "conv_layer = nn.Conv2d(in_channels=1, out_channels=3, kernel_size=3, padding=1) #디폴트로 제로패딩\n",
    "#이미지에 필터 적용\n",
    "output = conv_layer(Variable(image))\n",
    "print(output.size())\n",
    "\n",
    "for i in range(3):\n",
    "    plt.imshow(output[0,i,:,:].data.numpy(), cmap='gray')\n",
    "    plt.show()"
   ]
  },
  {
   "cell_type": "markdown",
   "id": "4b1fc557",
   "metadata": {},
   "source": [
    "## CNN 만들기\n",
    "\n",
    "train, test data 가져오기"
   ]
  },
  {
   "cell_type": "code",
   "execution_count": 38,
   "id": "18728862",
   "metadata": {},
   "outputs": [],
   "source": [
    "import numpy as np\n",
    "import torch.optim as optim\n",
    "\n",
    "batch_size =16\n",
    "learning_rate=0.0002\n",
    "num_epoch=10"
   ]
  },
  {
   "cell_type": "code",
   "execution_count": 39,
   "id": "f56cbcd5",
   "metadata": {},
   "outputs": [],
   "source": [
    "train_loader = torch.utils.data.DataLoader(list(mnist_train)[:batch_size*100], batch_size=batch_size, shuffle=True, num_workers=2, drop_last=True)\n",
    "test_loader = torch.utils.data.DataLoader((mnist_train), batch_size=batch_size, shuffle=False, num_workers=2, drop_last=True)\n",
    "#일정한 결과를 얻기 위해 test에서는 셔플 미진행"
   ]
  },
  {
   "cell_type": "markdown",
   "id": "6ba68b60",
   "metadata": {},
   "source": [
    "CNN 클래스 만들기 (모델 만들기)"
   ]
  },
  {
   "cell_type": "code",
   "execution_count": 40,
   "id": "2372efd2",
   "metadata": {},
   "outputs": [],
   "source": [
    "class CNN(nn.Module):\n",
    "    def __init__(self):\n",
    "        super(CNN,self).__init__()\n",
    "        self.layer=nn.Sequential(\n",
    "            nn.Conv2d(1,16,5,padding=2),\n",
    "            nn.ReLU(),\n",
    "           \n",
    "            \n",
    "            nn.Conv2d(16,32,5,padding=2),\n",
    "            nn.ReLU(),\n",
    "            nn.MaxPool2d(2,2),\n",
    "            \n",
    "            nn.Conv2d(32,64,5,padding=2),\n",
    "            nn.ReLU(),\n",
    "            nn.MaxPool2d(2,2)\n",
    "        )\n",
    "\n",
    "        self.fc_layer=nn.Sequential(\n",
    "            nn.Linear(64*7*7, 100),\n",
    "            nn.ReLU(),\n",
    "            nn.Linear(100,10)\n",
    "        )\n",
    "        \n",
    "\n",
    "    def forward(self,x):\n",
    "        out=self.layer(x)\n",
    "        out=out.view(batch_size, -1)\n",
    "        out=self.fc_layer(out)\n",
    "        return out\n",
    "    \n",
    "model=CNN() #.cuda()"
   ]
  },
  {
   "cell_type": "code",
   "execution_count": 41,
   "id": "67b3d976",
   "metadata": {},
   "outputs": [
    {
     "name": "stdout",
     "output_type": "stream",
     "text": [
      "torch.Size([16, 1, 5, 5])\n",
      "torch.Size([16])\n",
      "torch.Size([32, 16, 5, 5])\n",
      "torch.Size([32])\n",
      "torch.Size([64, 32, 5, 5])\n",
      "torch.Size([64])\n",
      "torch.Size([100, 3136])\n",
      "torch.Size([100])\n",
      "torch.Size([10, 100])\n",
      "torch.Size([10])\n"
     ]
    }
   ],
   "source": [
    "#파라미터 체크하기\n",
    "for parameter in model.parameters(): \n",
    "    #print(parameter) #실제 원소 값을 볼 수 있다!\n",
    "    print(parameter.shape)"
   ]
  },
  {
   "cell_type": "code",
   "execution_count": 42,
   "id": "b36de7f6",
   "metadata": {},
   "outputs": [],
   "source": [
    "loss_func = nn.CrossEntropyLoss()\n",
    "optimizer = torch.optim.Adam(model.parameters(), lr=learning_rate)"
   ]
  },
  {
   "cell_type": "markdown",
   "id": "2edae525",
   "metadata": {},
   "source": [
    "# optimization"
   ]
  },
  {
   "cell_type": "code",
   "execution_count": 43,
   "id": "f2f94cb6",
   "metadata": {},
   "outputs": [
    {
     "name": "stdout",
     "output_type": "stream",
     "text": [
      "(tensor(2.3131, grad_fn=<NllLossBackward>), 0, 0)\n",
      "(tensor(1.7476, grad_fn=<NllLossBackward>), 50, 0)\n",
      "(tensor(0.5729, grad_fn=<NllLossBackward>), 0, 1)\n",
      "(tensor(0.5782, grad_fn=<NllLossBackward>), 50, 1)\n",
      "(tensor(1.1769, grad_fn=<NllLossBackward>), 0, 2)\n",
      "(tensor(0.2560, grad_fn=<NllLossBackward>), 50, 2)\n",
      "(tensor(0.0845, grad_fn=<NllLossBackward>), 0, 3)\n",
      "(tensor(0.1239, grad_fn=<NllLossBackward>), 50, 3)\n",
      "(tensor(0.1801, grad_fn=<NllLossBackward>), 0, 4)\n",
      "(tensor(0.2344, grad_fn=<NllLossBackward>), 50, 4)\n",
      "(tensor(0.3320, grad_fn=<NllLossBackward>), 0, 5)\n",
      "(tensor(0.1446, grad_fn=<NllLossBackward>), 50, 5)\n",
      "(tensor(0.1855, grad_fn=<NllLossBackward>), 0, 6)\n",
      "(tensor(0.1344, grad_fn=<NllLossBackward>), 50, 6)\n",
      "(tensor(0.0634, grad_fn=<NllLossBackward>), 0, 7)\n",
      "(tensor(0.0562, grad_fn=<NllLossBackward>), 50, 7)\n",
      "(tensor(0.0525, grad_fn=<NllLossBackward>), 0, 8)\n",
      "(tensor(0.0320, grad_fn=<NllLossBackward>), 50, 8)\n",
      "(tensor(0.0082, grad_fn=<NllLossBackward>), 0, 9)\n",
      "(tensor(0.0690, grad_fn=<NllLossBackward>), 50, 9)\n"
     ]
    }
   ],
   "source": [
    "for i in range(num_epoch):\n",
    "    for j, [image, label] in (enumerate(train_loader)):\n",
    "        x=Variable(image)#.cuda()\n",
    "        y_=Variable(label)#.cuda()\n",
    "\n",
    "        optimizer.zero_grad()\n",
    "        output=model.forward(x)\n",
    "        loss=loss_func(output,y_) #(예측값, 정답)\n",
    "        loss.backward()  # backword로 gradient 계산\n",
    "        optimizer.step() # 파라미터 갱신\n",
    "\n",
    "        if j%50==0:\n",
    "            print(loss,j,i)"
   ]
  },
  {
   "cell_type": "code",
   "execution_count": 47,
   "id": "518f0fcd",
   "metadata": {},
   "outputs": [
    {
     "name": "stderr",
     "output_type": "stream",
     "text": [
      "/home/ec2-user/anaconda3/envs/pytorch_p27/lib/python2.7/site-packages/torch/serialization.py:360: UserWarning: Couldn't retrieve source code for container of type CNN. It won't be checked for correctness upon loading.\n",
      "  \"type \" + obj.__name__ + \". It won't be checked \"\n"
     ]
    }
   ],
   "source": [
    "#모델 저장시키기\n",
    "torch.save(model, 'nets/mycnn_model_%d.pki'%(num_epoch))"
   ]
  },
  {
   "cell_type": "code",
   "execution_count": 48,
   "id": "e6154412",
   "metadata": {},
   "outputs": [
    {
     "name": "stdout",
     "output_type": "stream",
     "text": [
      "model restored\n"
     ]
    }
   ],
   "source": [
    "try:\n",
    "    #미리 학습시킨 네트워크의 파라미터 집합 [피클]이라고 부름\n",
    "    model=torch.load('nets/mycnn_model_10.pki')\n",
    "    print(\"model restored\")\n",
    "except :\n",
    "    print(\"model not restored\")"
   ]
  },
  {
   "cell_type": "code",
   "execution_count": 45,
   "id": "1bf7d157",
   "metadata": {},
   "outputs": [],
   "source": [
    "#성능 측정을 위한 함수\n",
    "def ComputeAccr(dloader, imodel):\n",
    "    correct=0\n",
    "    total =0\n",
    "    \n",
    "    for j, [imgs, labels] in enumerate(dloader):\n",
    "        img = Variable(imgs, volatile=True) #.cuda() #GPU가속을 받는 경우 마지막에 .cuda()추가\n",
    "        #label = Variable(lable) #y\n",
    "        label = Variable(labels)#.cuda()\n",
    "        \n",
    "        output = imodel.forward(img)\n",
    "        _, output_index =torch.max(output, 1)\n",
    "        \n",
    "        total += label.size(0)\n",
    "        correct += ((output_index == label).sum().float())\n",
    "    print(\"Accuracy of Test Data : {}\".format(100*correct/total))"
   ]
  },
  {
   "cell_type": "code",
   "execution_count": 46,
   "id": "342a144f",
   "metadata": {},
   "outputs": [
    {
     "name": "stderr",
     "output_type": "stream",
     "text": [
      "/home/ec2-user/anaconda3/envs/pytorch_p27/lib/python2.7/site-packages/ipykernel/__main__.py:7: UserWarning: volatile was removed and now has no effect. Use `with torch.no_grad():` instead.\n"
     ]
    },
    {
     "name": "stdout",
     "output_type": "stream",
     "text": [
      "Accuracy of Test Data : 94.4966659546\n"
     ]
    }
   ],
   "source": [
    "ComputeAccr(test_loader, model)"
   ]
  },
  {
   "cell_type": "code",
   "execution_count": null,
   "id": "be511df9",
   "metadata": {},
   "outputs": [],
   "source": []
  }
 ],
 "metadata": {
  "kernelspec": {
   "display_name": "conda_pytorch_p27",
   "language": "python",
   "name": "conda_pytorch_p27"
  }
 },
 "nbformat": 4,
 "nbformat_minor": 5
}
